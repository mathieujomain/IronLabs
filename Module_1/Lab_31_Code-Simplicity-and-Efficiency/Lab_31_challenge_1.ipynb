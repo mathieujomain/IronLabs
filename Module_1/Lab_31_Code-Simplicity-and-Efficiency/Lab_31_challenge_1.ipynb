{
 "cells": [
  {
   "cell_type": "markdown",
   "id": "2316d191",
   "metadata": {},
   "source": [
    "Calculator"
   ]
  },
  {
   "cell_type": "code",
   "execution_count": 4,
   "id": "f7f0db1f",
   "metadata": {},
   "outputs": [],
   "source": [
    "def calc(x, y, z):\n",
    "    if y == '+':\n",
    "        return x + z\n",
    "    elif y == '-':\n",
    "        return x - z"
   ]
  },
  {
   "cell_type": "code",
   "execution_count": 10,
   "id": "bdf307eb",
   "metadata": {},
   "outputs": [
    {
     "name": "stdout",
     "output_type": "stream",
     "text": [
      "Welcome to this calculator! It can add and subtract whole numbers from zero to five\n",
      "Please choose your first number (0 to 5): 3\n",
      "What do you want to do? + or - : +\n",
      "Please choose your second number (0 to 5): 1\n",
      "3 + 1  =  4\n"
     ]
    }
   ],
   "source": [
    "print('Welcome to this calculator! It can add and subtract whole numbers from zero to five')\n",
    "a = int(input('Please choose your first number: '))\n",
    "b = input('What do you want to do? + or - : ')\n",
    "c = int(input('Please choose your second number: '))\n",
    "\n",
    "r = calc(a, b, c)\n",
    "print(a, b, c, ' = ', r)"
   ]
  },
  {
   "cell_type": "code",
   "execution_count": null,
   "id": "397c8be6",
   "metadata": {},
   "outputs": [],
   "source": []
  }
 ],
 "metadata": {
  "kernelspec": {
   "display_name": "Python 3 (ipykernel)",
   "language": "python",
   "name": "python3"
  },
  "language_info": {
   "codemirror_mode": {
    "name": "ipython",
    "version": 3
   },
   "file_extension": ".py",
   "mimetype": "text/x-python",
   "name": "python",
   "nbconvert_exporter": "python",
   "pygments_lexer": "ipython3",
   "version": "3.9.7"
  }
 },
 "nbformat": 4,
 "nbformat_minor": 5
}
