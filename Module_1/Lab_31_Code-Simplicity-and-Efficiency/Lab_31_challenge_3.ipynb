{
 "cells": [
  {
   "cell_type": "markdown",
   "id": "1e47f836",
   "metadata": {},
   "source": [
    "Triangle"
   ]
  },
  {
   "cell_type": "code",
   "execution_count": 11,
   "id": "cf69aa77",
   "metadata": {},
   "outputs": [],
   "source": [
    "def calc(X):\n",
    "    triangle = [[x, y, z] \n",
    "                 for x in range(5, X)\n",
    "                 for y in range(4, X)\n",
    "                 for z in range(3, X)\n",
    "                 if (x*x==y*y+z*z)]\n",
    "    return max([max(tri) for tri in triangle])"
   ]
  },
  {
   "cell_type": "code",
   "execution_count": 12,
   "id": "cf95d6ca",
   "metadata": {},
   "outputs": [
    {
     "name": "stdout",
     "output_type": "stream",
     "text": [
      "What is the maximal length of the triangle side? Enter a number: 6\n",
      "The longest side possible is 5\n"
     ]
    }
   ],
   "source": [
    "X = input(\"What is the maximal length of the triangle side? Enter a number: \")\n",
    "\n",
    "print(\"The longest side possible is \" + str(calc(int(X))))"
   ]
  },
  {
   "cell_type": "code",
   "execution_count": null,
   "id": "40c0e5df",
   "metadata": {},
   "outputs": [],
   "source": []
  }
 ],
 "metadata": {
  "kernelspec": {
   "display_name": "Python 3 (ipykernel)",
   "language": "python",
   "name": "python3"
  },
  "language_info": {
   "codemirror_mode": {
    "name": "ipython",
    "version": 3
   },
   "file_extension": ".py",
   "mimetype": "text/x-python",
   "name": "python",
   "nbconvert_exporter": "python",
   "pygments_lexer": "ipython3",
   "version": "3.9.7"
  }
 },
 "nbformat": 4,
 "nbformat_minor": 5
}
