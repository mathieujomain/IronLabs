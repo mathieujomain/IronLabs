{
 "cells": [
  {
   "cell_type": "markdown",
   "id": "dc4aff29",
   "metadata": {},
   "source": [
    "1. Consider an array/list of sheep where some sheep may be missing from their place. We need a function that counts the number of sheep present in the array (true means present)."
   ]
  },
  {
   "cell_type": "code",
   "execution_count": 3,
   "id": "5b618a37",
   "metadata": {},
   "outputs": [
    {
     "data": {
      "text/plain": [
       "17"
      ]
     },
     "execution_count": 3,
     "metadata": {},
     "output_type": "execute_result"
    }
   ],
   "source": [
    "sheeps = [True,  True,  True,  False, True,  True,  True,  True ,True,\n",
    "       False, True,  False, True,  False, False, True ,True,  True,\n",
    "       True,  True ,False, False, True,  True]\n",
    "\n",
    "def counting(sheeps):\n",
    "    counter = 0\n",
    "    for i in sheeps:\n",
    "        if i == True:\n",
    "            counter += 1\n",
    "    return counter\n",
    "\n",
    "counting(sheeps)"
   ]
  },
  {
   "cell_type": "markdown",
   "id": "6eed9461",
   "metadata": {},
   "source": [
    "2. Take an array and remove every second element from the array. Always keep the first element and start removing with the next element.\n",
    "\n",
    "Example:\n",
    "\n",
    "[\"Keep\", \"Remove\", \"Keep\", \"Remove\", \"Keep\", ...] --> [\"Keep\", \"Keep\", \"Keep\", ...]\n",
    "\n",
    "None of the arrays will be empty, so you don't have to worry about that!"
   ]
  },
  {
   "cell_type": "code",
   "execution_count": 4,
   "id": "c5f1489f",
   "metadata": {},
   "outputs": [
    {
     "name": "stdout",
     "output_type": "stream",
     "text": [
      "['Keep', 'Keep', 'Keep']\n"
     ]
    }
   ],
   "source": [
    "l = [\"Keep\", \"Remove\", \"Keep\", \"Remove\", \"Keep\"]\n",
    "l2 = l[::2]\n",
    "print(l2)"
   ]
  },
  {
   "cell_type": "code",
   "execution_count": 22,
   "id": "d0ccd4c4",
   "metadata": {},
   "outputs": [
    {
     "data": {
      "text/plain": [
       "['Keep', 'Keep', 'Keep']"
      ]
     },
     "execution_count": 22,
     "metadata": {},
     "output_type": "execute_result"
    }
   ],
   "source": [
    "l = [\"Keep\", \"Remove\", \"Keep\", \"Remove\", \"Keep\"]\n",
    "\n",
    "def remove(array):\n",
    "    new_array = []\n",
    "    for i in range(len(array)):\n",
    "        if i%2 == 0:\n",
    "            new_array.append(array[i])\n",
    "    return new_array\n",
    "\n",
    "remove(l)"
   ]
  },
  {
   "cell_type": "markdown",
   "id": "1b31dbf4",
   "metadata": {},
   "source": [
    "3. Given a random non-negative number, you have to return the digits of this number within an array in reverse order."
   ]
  },
  {
   "cell_type": "code",
   "execution_count": 17,
   "id": "9967144c",
   "metadata": {},
   "outputs": [
    {
     "name": "stdout",
     "output_type": "stream",
     "text": [
      "Enter your number : 32566\n",
      "Reversed List: [6, 6, 5, 2, 3]\n"
     ]
    }
   ],
   "source": [
    "# create a list of prime numbers\n",
    "num = input(\"Enter your number : \")\n",
    "num_l = list(num)\n",
    "\n",
    "num_l= [int(i) for i in num_l]\n",
    "\n",
    "\n",
    "\n",
    "# reverse the order of list elements\n",
    "num_l.reverse()\n",
    "\n",
    "\n",
    "print('Reversed List:', num_l)"
   ]
  },
  {
   "cell_type": "markdown",
   "id": "c510de3b",
   "metadata": {},
   "source": [
    "4. Welcome. In this kata, you are asked to square every digit of a number and concatenate them.\n",
    "\n",
    "For example, if we run 9119 through the function, 811181 will come out, because 9 square is 81 and 1 square is 1.\n",
    "\n",
    "Note: The function accepts an integer and returns an integer\n"
   ]
  },
  {
   "cell_type": "code",
   "execution_count": 24,
   "id": "95e92377",
   "metadata": {},
   "outputs": [
    {
     "data": {
      "text/plain": [
       "9425"
      ]
     },
     "execution_count": 24,
     "metadata": {},
     "output_type": "execute_result"
    }
   ],
   "source": [
    "def square(num):\n",
    "    num_str = str(num)\n",
    "    result = ''\n",
    "    \n",
    "    for i in num_str:\n",
    "        digit = (int(i))**2\n",
    "        result += str(digit)\n",
    "    return int(result)\n",
    "\n",
    "square(325)"
   ]
  }
 ],
 "metadata": {
  "kernelspec": {
   "display_name": "Python 3 (ipykernel)",
   "language": "python",
   "name": "python3"
  },
  "language_info": {
   "codemirror_mode": {
    "name": "ipython",
    "version": 3
   },
   "file_extension": ".py",
   "mimetype": "text/x-python",
   "name": "python",
   "nbconvert_exporter": "python",
   "pygments_lexer": "ipython3",
   "version": "3.9.7"
  }
 },
 "nbformat": 4,
 "nbformat_minor": 5
}
