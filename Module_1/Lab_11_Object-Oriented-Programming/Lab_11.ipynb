{
 "cells": [
  {
   "cell_type": "markdown",
   "id": "01555104",
   "metadata": {},
   "source": [
    "1. Define a method/function that removes from a given array of integers all the values contained in a second array."
   ]
  },
  {
   "cell_type": "code",
   "execution_count": 4,
   "id": "11ab2231",
   "metadata": {},
   "outputs": [
    {
     "data": {
      "text/plain": [
       "[2, 2, 4]"
      ]
     },
     "execution_count": 4,
     "metadata": {},
     "output_type": "execute_result"
    }
   ],
   "source": [
    "integers_list = [1, 1, 2 ,3 ,1 ,2 ,3 ,4]\n",
    "filters = [1, 3]\n",
    "new_list = []\n",
    "\n",
    "def remove(integers_list, filters, new_list):\n",
    "    for i in integers_list:\n",
    "        if i not in filters:\n",
    "            new_list.append(i)\n",
    "    return new_list\n",
    "\n",
    "remove(integers_list,filters,new_list)"
   ]
  },
  {
   "cell_type": "markdown",
   "id": "f242dabe",
   "metadata": {},
   "source": [
    "2. We need a method in the List Class that may count specific digits from a given list of integers. This marked digits will be given in a second list. The method .count_spec_digits()/.countSpecDigits() will accept two arguments, a list of an uncertain amount of integers integers_lists/integersLists (and of an uncertain amount of digits, too) and a second list, digits_list/digitsList that has the specific digits to count which length cannot be be longer than 10 (It's obvious, we've got ten digits). The method will output a list of tuples, each tuple having two elements, the first one will be a digit to count, and second one, its corresponding total frequency in all the integers of the first list. This list of tuples should be ordered with the same order that the digits have in digitsList"
   ]
  },
  {
   "cell_type": "code",
   "execution_count": 1,
   "id": "6cb15f6c",
   "metadata": {},
   "outputs": [
    {
     "data": {
      "text/plain": [
       "[(1, 7), (8, 5), (4, 0)]"
      ]
     },
     "execution_count": 1,
     "metadata": {},
     "output_type": "execute_result"
    }
   ],
   "source": [
    "integers_list = [-18, -31, 81, -19, 111, -888]\n",
    "digits_list = [1, 8, 4]\n",
    "\n",
    "def count(integers_list, digits_list):\n",
    "    new_list=[]\n",
    "    list1=[abs(i) for i in integers_list]\n",
    "    list2=[str(i) for i in list1]\n",
    "    string=''\n",
    "    for i in list2:\n",
    "        for l in range(len(i)):\n",
    "            string+=i[l]\n",
    "    unit_list=[i for i in string]\n",
    "    for i in digits_list:\n",
    "        x=(i,unit_list.count(str(i)))\n",
    "        new_list.append(x)\n",
    "    return(new_list)\n",
    "\n",
    "count(integers_list, digits_list)"
   ]
  },
  {
   "cell_type": "markdown",
   "id": "b82df9e9",
   "metadata": {},
   "source": [
    "3. Count the number of occurrences of each character and return it as a list of tuples in order of appearance. For empty output return an empty list.\n",
    "\n",
    "Example:\n",
    "\n",
    "ordered_count(\"abracadabra\") == [('a', 5), ('b', 2), ('r', 2), ('c', 1), ('d', 1)]\n"
   ]
  },
  {
   "cell_type": "code",
   "execution_count": 2,
   "id": "c34cc90c",
   "metadata": {},
   "outputs": [
    {
     "data": {
      "text/plain": [
       "[('a', 5), ('b', 2), ('r', 2), ('c', 1), ('d', 1)]"
      ]
     },
     "execution_count": 2,
     "metadata": {},
     "output_type": "execute_result"
    }
   ],
   "source": [
    "from collections import Counter\n",
    "word = \"abracadabra\"\n",
    "\n",
    "def ordered(word):\n",
    "    return list(Counter(word).items())\n",
    "\n",
    "ordered(word)"
   ]
  },
  {
   "cell_type": "code",
   "execution_count": null,
   "id": "e7f81a9a",
   "metadata": {},
   "outputs": [],
   "source": []
  }
 ],
 "metadata": {
  "kernelspec": {
   "display_name": "Python 3 (ipykernel)",
   "language": "python",
   "name": "python3"
  },
  "language_info": {
   "codemirror_mode": {
    "name": "ipython",
    "version": 3
   },
   "file_extension": ".py",
   "mimetype": "text/x-python",
   "name": "python",
   "nbconvert_exporter": "python",
   "pygments_lexer": "ipython3",
   "version": "3.9.7"
  }
 },
 "nbformat": 4,
 "nbformat_minor": 5
}
