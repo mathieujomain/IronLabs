{
 "cells": [
  {
   "cell_type": "markdown",
   "metadata": {},
   "source": [
    "# Before your start:\n",
    "- Read the README.md file.\n",
    "- Comment as much as you can and use the resources (README.md file).\n",
    "- Happy learning!"
   ]
  },
  {
   "cell_type": "code",
   "execution_count": 2,
   "metadata": {},
   "outputs": [],
   "source": [
    "# Libraries\n",
    "import matplotlib.pyplot as plt\n",
    "import scipy.stats as st\n",
    "import pandas as pd\n",
    "import numpy as np"
   ]
  },
  {
   "cell_type": "markdown",
   "metadata": {},
   "source": [
    "# Challenge 1 - Generate and Plot Normal Distributions\n",
    "#### Step 1: Generate samples and test normal distribution.\n",
    "\n",
    "Use mean=50, standard_deviation=5, and sample_size=[10, 50, 500, 5000] to generate 4 random samples that are normally distributed.\n",
    "\n",
    "**Hint**: Read the documentation for `scipy.stats.norm.rvs`. The function will help you create the normal random samples."
   ]
  },
  {
   "cell_type": "code",
   "execution_count": 5,
   "metadata": {
    "scrolled": true
   },
   "outputs": [
    {
     "data": {
      "text/plain": [
       "[array([55.71422584, 58.09884126, 47.2471943 , 50.70488763, 54.0371424 ,\n",
       "        50.00516801, 55.51637461, 51.00898163, 51.42200494, 45.83069491]),\n",
       " array([44.60551966, 48.7122033 , 49.39469903, 49.05105295, 51.32939389,\n",
       "        52.30389655, 63.71484368, 50.3168814 , 43.07651796, 57.71202581,\n",
       "        49.33827937, 57.37793899, 49.97393188, 50.16052031, 42.23546006,\n",
       "        50.25320465, 44.39238741, 41.49023801, 50.09330918, 51.59907469,\n",
       "        50.01917092, 50.02068715, 58.30243806, 48.74497709, 49.30430825,\n",
       "        48.43209933, 50.87014831, 44.35995644, 51.08776893, 51.82471916,\n",
       "        47.2099979 , 46.35041538, 46.84640523, 53.70139592, 49.72215162,\n",
       "        53.01778606, 48.79145258, 47.41489285, 42.8183546 , 51.99678887,\n",
       "        48.72180671, 44.23951484, 60.18175371, 60.28388988, 39.38838643,\n",
       "        42.96613814, 45.96310368, 42.70888392, 52.87449542, 42.84327126]),\n",
       " array([55.39298579, 52.09877519, 53.45461179, 48.20318072, 50.51348274,\n",
       "        55.11854033, 48.59171337, 58.37480641, 49.17857957, 53.3396971 ,\n",
       "        57.77759262, 44.02680112, 46.39226681, 53.10107509, 51.25069017,\n",
       "        48.44411046, 58.38205125, 56.25455508, 57.81619666, 47.68178883,\n",
       "        48.93197849, 61.84612114, 51.34443162, 48.72422168, 52.62447342,\n",
       "        50.73112509, 51.19943667, 54.1546103 , 47.78722876, 50.13042049,\n",
       "        46.32528208, 46.73417959, 51.74432531, 53.25264747, 49.58232963,\n",
       "        57.51392521, 46.16896753, 48.23696353, 51.7887778 , 48.99899326,\n",
       "        43.33948056, 52.25378187, 58.06704723, 48.43063391, 53.77095084,\n",
       "        46.89580941, 51.62500018, 55.77586346, 55.73022574, 49.18393471,\n",
       "        42.37567344, 51.18772399, 43.33035108, 52.0292072 , 43.73287378,\n",
       "        51.07160924, 50.94222069, 46.55386965, 49.87420433, 45.83497488,\n",
       "        46.3703798 , 63.3363542 , 50.57960654, 54.16381622, 49.66820916,\n",
       "        54.94423916, 47.98938073, 55.09585358, 49.8704468 , 43.51180291,\n",
       "        53.86861572, 63.14425886, 48.21987514, 49.87263285, 50.42493418,\n",
       "        52.71621174, 51.77936016, 51.40661166, 55.54738549, 54.40349368,\n",
       "        53.40647242, 44.55067704, 53.24554601, 52.67616609, 44.65467923,\n",
       "        58.59193918, 43.13677667, 55.4420295 , 49.44604283, 43.61923514,\n",
       "        57.39392705, 53.66919438, 47.62077379, 42.64560715, 64.046512  ,\n",
       "        52.64927039, 51.91436461, 46.16431723, 43.94535796, 47.307917  ,\n",
       "        53.39412005, 43.41777191, 42.35710832, 48.1408576 , 51.85392646,\n",
       "        51.18516966, 46.85565564, 55.08899312, 40.52651906, 46.63127444,\n",
       "        52.36309027, 49.77222368, 47.36005618, 50.60017155, 58.44033299,\n",
       "        50.2595563 , 50.98970135, 50.65331779, 48.93180251, 46.93766613,\n",
       "        44.56510645, 51.52490224, 40.31381682, 49.79042017, 52.12044267,\n",
       "        42.16672434, 47.54923394, 47.15891155, 50.81390433, 54.12238019,\n",
       "        57.22936363, 47.77250979, 54.81416467, 52.58962729, 44.12815642,\n",
       "        58.01130012, 57.2848001 , 60.17516709, 48.38077267, 41.10353229,\n",
       "        49.35400514, 43.61177786, 45.54964545, 57.12320149, 53.87158134,\n",
       "        50.5447442 , 56.73996956, 46.63588658, 50.48687674, 54.10010368,\n",
       "        47.92852318, 66.27235482, 43.69687708, 52.2107385 , 48.0927427 ,\n",
       "        62.90878387, 45.68985528, 51.70576904, 48.35911613, 50.36256434,\n",
       "        60.02640835, 43.22171651, 47.67609417, 43.62513237, 57.29557173,\n",
       "        48.09870451, 49.49460409, 55.5518853 , 55.92944516, 43.23121394,\n",
       "        54.08477753, 44.21688387, 52.77017977, 47.81761105, 57.84848034,\n",
       "        49.13135452, 50.98046863, 53.01407839, 52.88659397, 54.64563111,\n",
       "        47.51797805, 48.42698404, 54.04249353, 48.28631972, 51.76176136,\n",
       "        48.46992062, 45.45230551, 52.84455439, 50.50166411, 56.19944751,\n",
       "        47.68480147, 49.3957781 , 45.0168847 , 52.90624709, 49.1887379 ,\n",
       "        54.60467364, 57.94308973, 43.90842941, 53.18652726, 53.07884675,\n",
       "        54.29065503, 54.52036016, 47.37592453, 54.92422085, 53.63681703,\n",
       "        50.28924944, 52.54136573, 49.47981671, 46.83816665, 55.70549111,\n",
       "        46.26369886, 52.48710623, 46.25564471, 50.04960297, 51.52134182,\n",
       "        63.00422777, 50.88479214, 50.72658375, 47.29154978, 55.44398308,\n",
       "        58.79928613, 53.22924384, 46.52808092, 42.54116145, 49.60857907,\n",
       "        55.04237036, 49.92973903, 48.35391018, 60.48671989, 50.38497382,\n",
       "        51.28009959, 43.57652803, 55.18480094, 46.2938144 , 50.35735735,\n",
       "        53.39484297, 46.47241108, 54.09644685, 55.5030256 , 55.25400593,\n",
       "        46.17173315, 51.31895102, 53.11491241, 56.06125282, 43.43678826,\n",
       "        44.24480358, 52.48983196, 44.05627246, 51.29332895, 42.03022642,\n",
       "        51.23903186, 52.82244237, 48.73681637, 42.16936781, 51.81219029,\n",
       "        48.90579473, 54.96792088, 56.33275034, 47.00373036, 48.52884353,\n",
       "        48.68259342, 47.69010106, 62.67514753, 44.22854919, 47.55187038,\n",
       "        45.33988651, 53.09550396, 55.57998426, 53.33195872, 42.75155799,\n",
       "        47.79348094, 45.34423109, 42.47189175, 50.11604974, 54.69913277,\n",
       "        47.949709  , 45.46659612, 37.66175213, 45.35789481, 57.86027108,\n",
       "        47.96901141, 52.20607452, 47.75685399, 44.4424341 , 49.59158701,\n",
       "        41.95632277, 55.18895885, 57.13026619, 49.55598251, 56.72362682,\n",
       "        50.80322902, 50.12384831, 56.97065127, 52.72242009, 50.53122721,\n",
       "        52.72901581, 44.81773803, 48.55359511, 49.24963686, 48.34473409,\n",
       "        49.82567422, 50.33007638, 57.0999036 , 48.779775  , 46.73158056,\n",
       "        46.66621057, 51.93706105, 48.12028761, 54.07616867, 44.50158029,\n",
       "        48.73252507, 56.9259203 , 55.21422847, 47.09661824, 43.37518135,\n",
       "        51.25146531, 55.94851266, 53.99800602, 42.10452302, 45.9846075 ,\n",
       "        45.06033534, 53.69501577, 52.88620432, 47.39786274, 58.11656541,\n",
       "        37.67533626, 42.81810039, 50.68935756, 50.17931382, 50.63050365,\n",
       "        47.79236169, 45.70949895, 48.53739248, 50.33224021, 44.19315783,\n",
       "        53.99762903, 39.50869102, 51.51935003, 47.62117669, 47.79960939,\n",
       "        48.84040887, 40.40307767, 49.71963308, 39.00883173, 52.63208676,\n",
       "        44.80415562, 44.48692885, 50.79659735, 40.07634736, 50.65861811,\n",
       "        54.24124249, 52.73652397, 50.32163088, 57.86502603, 48.18772874,\n",
       "        53.96090633, 45.89162092, 56.92596131, 54.60502566, 49.57116814,\n",
       "        53.17893542, 54.86429005, 51.657924  , 47.69642296, 51.60558978,\n",
       "        45.80050954, 48.87903536, 42.97048702, 51.94756598, 47.93206865,\n",
       "        46.38526906, 50.48583558, 48.34663964, 41.84711637, 39.56783742,\n",
       "        51.95167412, 52.95452103, 52.89568586, 45.71494697, 42.7631878 ,\n",
       "        55.12704977, 48.5994795 , 55.90014843, 62.2061119 , 56.82502533,\n",
       "        53.19006857, 54.82208279, 45.08447566, 52.99748262, 47.22850929,\n",
       "        47.34762128, 45.59053513, 50.93611433, 55.04722459, 46.59993872,\n",
       "        46.46702781, 47.66745939, 52.87850355, 51.01676931, 46.99202755,\n",
       "        53.56679203, 47.06512734, 50.25371716, 54.0515147 , 51.79151022,\n",
       "        50.03192354, 61.6555525 , 54.77629959, 54.91880352, 52.11608651,\n",
       "        48.4318683 , 47.81017962, 50.72864916, 52.8058503 , 54.64101201,\n",
       "        42.04715278, 53.29639391, 40.95010341, 54.05019204, 53.99618466,\n",
       "        53.7133511 , 46.48195479, 51.0252904 , 43.0431615 , 52.80927789,\n",
       "        56.64835416, 52.13294363, 47.66195469, 51.3154834 , 55.41198685,\n",
       "        42.75393723, 53.52346516, 42.96131852, 51.97926648, 49.10796806,\n",
       "        45.31838131, 60.20356324, 48.74988549, 53.49778177, 44.48124131,\n",
       "        46.77106952, 52.80246661, 51.6639535 , 51.10307636, 52.19374481,\n",
       "        47.74098561, 54.47478057, 44.79907925, 36.85275547, 56.40715284,\n",
       "        52.2556587 , 56.28500125, 53.22635508, 49.2958403 , 41.43477516,\n",
       "        42.97531969, 52.49885071, 53.21170539, 47.75637601, 58.1554463 ,\n",
       "        46.82610538, 48.15570337, 47.214488  , 43.74243942, 52.68315264,\n",
       "        46.5141727 , 62.92782797, 49.70121032, 48.69597593, 51.22568354,\n",
       "        46.39571064, 48.5123835 , 46.28608014, 47.26459104, 47.13900462,\n",
       "        48.69896682, 53.08805135, 59.17638494, 41.08046662, 47.80410348,\n",
       "        47.37968452, 42.33178189, 57.06728362, 53.02309031, 54.25564462,\n",
       "        62.65557911, 42.04956035, 45.64303426, 54.54847374, 51.00721682,\n",
       "        63.47323013, 45.60597423, 47.3502487 , 50.00572034, 44.16412549,\n",
       "        46.54413604, 51.91411298, 53.44641045, 51.15168473, 47.62138107]),\n",
       " array([48.34528964, 50.05163431, 45.88575608, ..., 51.23896564,\n",
       "        58.85240542, 45.5261264 ])]"
      ]
     },
     "execution_count": 5,
     "metadata": {},
     "output_type": "execute_result"
    }
   ],
   "source": [
    "# your code here\n",
    "mean = 50\n",
    "s = 5\n",
    "sample_size=[10, 50, 500, 5000]\n",
    "sampl = []\n",
    "\n",
    "for i in sample_size:\n",
    "    x = st.norm.rvs(loc=mean, scale=s, size=i)\n",
    "    sampl.append(x)\n",
    "\n",
    "sampl"
   ]
  },
  {
   "cell_type": "markdown",
   "metadata": {},
   "source": [
    "#### Step 2: Plot normal distributions.\n",
    "\n",
    "To check the shape of the samples you have just created, you can use matplotlib. For example, you can use it to plot a histogram of each sample. \n",
    "\n",
    "If you did, your outputs would be really similar to the ones below:\n",
    "\n",
    "![normal distributions with different sample sizes](../images/ch-1.png)"
   ]
  },
  {
   "cell_type": "code",
   "execution_count": 9,
   "metadata": {},
   "outputs": [
    {
     "data": {
      "text/plain": [
       "(array([1., 1., 0., 2., 2., 0., 1., 1., 1., 1.]),\n",
       " array([45.83069491, 47.05750954, 48.28432418, 49.51113881, 50.73795345,\n",
       "        51.96476808, 53.19158272, 54.41839735, 55.64521199, 56.87202662,\n",
       "        58.09884126]),\n",
       " <BarContainer object of 10 artists>)"
      ]
     },
     "execution_count": 9,
     "metadata": {},
     "output_type": "execute_result"
    },
    {
     "data": {
      "image/png": "[encoded data removed]",
      "text/plain": [
       "<Figure size 432x288 with 1 Axes>"
      ]
     },
     "metadata": {
      "needs_background": "light"
     },
     "output_type": "display_data"
    }
   ],
   "source": [
    "plt.hist(sampl[0])"
   ]
  },
  {
   "cell_type": "code",
   "execution_count": 10,
   "metadata": {},
   "outputs": [
    {
     "data": {
      "text/plain": [
       "(array([ 2.,  7.,  5.,  9., 14.,  7.,  0.,  3.,  2.,  1.]),\n",
       " array([39.38838643, 41.82103216, 44.25367788, 46.68632361, 49.11896933,\n",
       "        51.55161505, 53.98426078, 56.4169065 , 58.84955223, 61.28219795,\n",
       "        63.71484368]),\n",
       " <BarContainer object of 10 artists>)"
      ]
     },
     "execution_count": 10,
     "metadata": {},
     "output_type": "execute_result"
    },
    {
     "data": {
      "image/png": "[encoded data removed]",
      "text/plain": [
       "<Figure size 432x288 with 1 Axes>"
      ]
     },
     "metadata": {
      "needs_background": "light"
     },
     "output_type": "display_data"
    }
   ],
   "source": [
    "plt.hist(sampl[1])"
   ]
  },
  {
   "cell_type": "code",
   "execution_count": 11,
   "metadata": {},
   "outputs": [
    {
     "data": {
      "text/plain": [
       "(array([  6.,  22.,  57., 110., 103., 108.,  60.,  20.,  10.,   4.]),\n",
       " array([36.85275547, 39.79471541, 42.73667534, 45.67863528, 48.62059521,\n",
       "        51.56255515, 54.50451508, 57.44647502, 60.38843495, 63.33039489,\n",
       "        66.27235482]),\n",
       " <BarContainer object of 10 artists>)"
      ]
     },
     "execution_count": 11,
     "metadata": {},
     "output_type": "execute_result"
    },
    {
     "data": {
      "image/png": "[encoded data removed]",
      "text/plain": [
       "<Figure size 432x288 with 1 Axes>"
      ]
     },
     "metadata": {
      "needs_background": "light"
     },
     "output_type": "display_data"
    }
   ],
   "source": [
    "plt.hist(sampl[2])"
   ]
  },
  {
   "cell_type": "code",
   "execution_count": 12,
   "metadata": {},
   "outputs": [
    {
     "data": {
      "text/plain": [
       "(array([1.000e+00, 1.700e+01, 1.530e+02, 6.660e+02, 1.376e+03, 1.596e+03,\n",
       "        8.680e+02, 2.920e+02, 2.800e+01, 3.000e+00]),\n",
       " array([28.19793663, 32.43746399, 36.67699135, 40.91651872, 45.15604608,\n",
       "        49.39557344, 53.6351008 , 57.87462817, 62.11415553, 66.35368289,\n",
       "        70.59321026]),\n",
       " <BarContainer object of 10 artists>)"
      ]
     },
     "execution_count": 12,
     "metadata": {},
     "output_type": "execute_result"
    },
    {
     "data": {
      "image/png": "[encoded data removed]",
      "text/plain": [
       "<Figure size 432x288 with 1 Axes>"
      ]
     },
     "metadata": {
      "needs_background": "light"
     },
     "output_type": "display_data"
    }
   ],
   "source": [
    "plt.hist(sampl[3])"
   ]
  },
  {
   "cell_type": "markdown",
   "metadata": {},
   "source": [
    "#### Compare the distributions above. What do you observe? Explain with the Central Limit Theorem."
   ]
  },
  {
   "cell_type": "code",
   "execution_count": null,
   "metadata": {},
   "outputs": [],
   "source": [
    "\"\"\"\n",
    "your comments here\n",
    "\"\"\""
   ]
  },
  {
   "cell_type": "markdown",
   "metadata": {},
   "source": [
    "#### Bonus: Plot normal distributions.\n",
    "\n",
    "Even though you still don't know how to use matplotlib, as a bonus challenge, you can try to reproduce the plot above using the samples you have created. This plotting library will be introduced later this week, so don't worry if you don't manage to get the results you want now: you can always come back to solve this challenge later."
   ]
  },
  {
   "cell_type": "code",
   "execution_count": null,
   "metadata": {},
   "outputs": [],
   "source": [
    "# your code here"
   ]
  },
  {
   "cell_type": "markdown",
   "metadata": {},
   "source": [
    "# Challenge 2 - Plot Probability Mass Function (PMF)"
   ]
  },
  {
   "cell_type": "markdown",
   "metadata": {},
   "source": [
    "### Background knowledge\n",
    "\n",
    "[PMF](https://en.wikipedia.org/wiki/Probability_mass_function) shows the probability distribution of a **discrete random variable**. A [discrete random variable](https://en.wikipedia.org/wiki/Random_variable#Discrete_random_variable) has random numeric values that are not continuous. For example, the number of people in a household can only be integers but not floats. Therefore the number of people in a household is a discrete variable.\n",
    "\n",
    "### Challenge\n",
    "\n",
    "We assume that the probability of clicking an advertisement in a Youtube video is 0.15. We have a sample of 5 people who watched the video and we want to plot the PMF for a binomial distribution.\n",
    "\n",
    "#### Step 1: Create the binomial distribution mentioned above. Store the result in a variable called `dist`. \n",
    "**Hint**: use binom from `scipy.stats.binom`. This object takes *n* and *p* as shape parameters, where *n* is the number of independent experiments and *p* the probability of success of the experiment."
   ]
  },
  {
   "cell_type": "code",
   "execution_count": 15,
   "metadata": {},
   "outputs": [
    {
     "data": {
      "text/plain": [
       "<scipy.stats._distn_infrastructure.rv_frozen at 0x2467587d7f0>"
      ]
     },
     "execution_count": 15,
     "metadata": {},
     "output_type": "execute_result"
    }
   ],
   "source": [
    "# your code here\n",
    "n = 5\n",
    "p=0.15\n",
    "\n",
    "dist = st.binom(n, p)\n",
    "dist"
   ]
  },
  {
   "cell_type": "markdown",
   "metadata": {},
   "source": [
    "#### Step 2: Plot the PMF of the distribution. \n",
    "To do it, run the code in the cell below. \n",
    "\n",
    "**Hint**: Your output should look like the one below:\n",
    "\n",
    "![binom 10](../images/ch-2.png)"
   ]
  },
  {
   "cell_type": "code",
   "execution_count": 16,
   "metadata": {},
   "outputs": [
    {
     "data": {
      "image/png": "[encoded data removed]",
      "text/plain": [
       "<Figure size 432x288 with 1 Axes>"
      ]
     },
     "metadata": {
      "needs_background": "light"
     },
     "output_type": "display_data"
    }
   ],
   "source": [
    "# run this code\n",
    "x = range(n)\n",
    "\n",
    "fig, ax = plt.subplots(1, 1)\n",
    "\n",
    "plt.plot(x, dist.pmf(x))\n",
    "\n",
    "plt.show()"
   ]
  },
  {
   "cell_type": "markdown",
   "metadata": {},
   "source": [
    "#### Step 3: Explain what you observe from the plot above."
   ]
  },
  {
   "cell_type": "code",
   "execution_count": null,
   "metadata": {},
   "outputs": [],
   "source": [
    "\"\"\"\n",
    "your comments here\n",
    "\"\"\""
   ]
  },
  {
   "cell_type": "markdown",
   "metadata": {},
   "source": [
    "#### Step 4: Now plot PMF with 50, 500, and 5000 visitors.\n",
    "To plot the PMF, you can copy the code given above and replace variable `dist` for the name of the variables where you have stored the new binomial objects for 50, 500 and 5000 visitors."
   ]
  },
  {
   "cell_type": "code",
   "execution_count": 27,
   "metadata": {},
   "outputs": [
    {
     "data": {
      "image/png": "[encoded data removed]",
      "text/plain": [
       "<Figure size 432x288 with 1 Axes>"
      ]
     },
     "metadata": {
      "needs_background": "light"
     },
     "output_type": "display_data"
    },
    {
     "data": {
      "image/png": "[encoded data removed]",
      "text/plain": [
       "<Figure size 432x288 with 1 Axes>"
      ]
     },
     "metadata": {
      "needs_background": "light"
     },
     "output_type": "display_data"
    },
    {
     "name": "stderr",
     "output_type": "stream",
     "text": [
      "C:\\Users\\matui\\anaconda3\\lib\\site-packages\\scipy\\stats\\_discrete_distns.py:67: RuntimeWarning: divide by zero encountered in _binom_pdf\n",
      "  return _boost._binom_pdf(x, n, p)\n"
     ]
    },
    {
     "data": {
      "image/png": "[encoded data removed]",
      "text/plain": [
       "<Figure size 432x288 with 1 Axes>"
      ]
     },
     "metadata": {
      "needs_background": "light"
     },
     "output_type": "display_data"
    }
   ],
   "source": [
    "# your code here\n",
    "n = [50, 500, 5000]\n",
    "for i in n:\n",
    "    distt = st.binom(i,p)\n",
    "    x=range(i)\n",
    "    fig, ax = plt.subplots(1,1)\n",
    "    plt.plot(x, distt.pmf(x))\n",
    "    plt.show()"
   ]
  },
  {
   "cell_type": "markdown",
   "metadata": {},
   "source": [
    "#### Step 5: What did you notice from the distribution plots? Comment your findings."
   ]
  },
  {
   "cell_type": "code",
   "execution_count": null,
   "metadata": {},
   "outputs": [],
   "source": [
    "\"\"\"\n",
    "your comments here\n",
    "\"\"\""
   ]
  },
  {
   "cell_type": "markdown",
   "metadata": {},
   "source": [
    "# Challenge 3\n",
    "#### Step 1: Research the Poisson distribution. Write about your own understanding of the Poisson distribution."
   ]
  },
  {
   "cell_type": "code",
   "execution_count": null,
   "metadata": {},
   "outputs": [],
   "source": [
    "\"\"\"\n",
    "your comments here\n",
    "\"\"\""
   ]
  },
  {
   "cell_type": "markdown",
   "metadata": {},
   "source": [
    "#### Step 2: A website has an average of 300 visits per day. What is the probability of getting 320 visitors in a day?\n",
    "\n",
    "**Hint**: use `scipy.stats.poisson.pmf`."
   ]
  },
  {
   "cell_type": "code",
   "execution_count": 29,
   "metadata": {},
   "outputs": [
    {
     "data": {
      "text/plain": [
       "0.011612348610402475"
      ]
     },
     "execution_count": 29,
     "metadata": {},
     "output_type": "execute_result"
    }
   ],
   "source": [
    "# your code here\n",
    "st.poisson.pmf(320, 300)"
   ]
  },
  {
   "cell_type": "markdown",
   "metadata": {},
   "source": [
    "#### Step 3: What is the probability of getting 60 visits?"
   ]
  },
  {
   "cell_type": "code",
   "execution_count": 30,
   "metadata": {},
   "outputs": [
    {
     "data": {
      "text/plain": [
       "2.622743762294515e-64"
      ]
     },
     "execution_count": 30,
     "metadata": {},
     "output_type": "execute_result"
    }
   ],
   "source": [
    "# your code here\n",
    "st.poisson.pmf(60, 300)"
   ]
  },
  {
   "cell_type": "markdown",
   "metadata": {},
   "source": [
    "#### Step 4: Create a list to store the Poisson distribution probabilities for 0 to 1000 visitors. Store your list in a variable called `arr`."
   ]
  },
  {
   "cell_type": "code",
   "execution_count": 35,
   "metadata": {},
   "outputs": [
    {
     "data": {
      "text/plain": [
       "1000"
      ]
     },
     "execution_count": 35,
     "metadata": {},
     "output_type": "execute_result"
    }
   ],
   "source": [
    "# your code here\n",
    "arr=[]\n",
    "for i in range(1000):\n",
    "    arr.append(st.poisson.pmf(i,300))\n",
    "    \n",
    "len(arr)"
   ]
  },
  {
   "cell_type": "markdown",
   "metadata": {},
   "source": [
    "#### Step 5: Plot the probabilities.\n",
    "To do it, run the code in the cell below. Your plot should look like the one below:\n",
    "\n",
    "![poisson distribution](../images/ch-3.png)"
   ]
  },
  {
   "cell_type": "code",
   "execution_count": 36,
   "metadata": {},
   "outputs": [
    {
     "data": {
      "image/png": "[encoded data removed]",
      "text/plain": [
       "<Figure size 432x288 with 1 Axes>"
      ]
     },
     "metadata": {
      "needs_background": "light"
     },
     "output_type": "display_data"
    }
   ],
   "source": [
    "# run this code\n",
    "plt.plot(arr)\n",
    "plt.show()"
   ]
  },
  {
   "cell_type": "markdown",
   "metadata": {},
   "source": [
    "# Challenge 4 - Central Limit Theorem\n",
    "\n",
    "A delivery company needs 35 minutes to deliver a package, with a standard deviation of 8 minutes. Suppose that in one day, they deliver 200 packages.\n",
    "\n",
    "**Hint**: `stats.norm.cdf` can help you find the answers.\n",
    "\n",
    "#### Step 1: What is the probability that the mean delivery time today is between 30 and 35 minutes?"
   ]
  },
  {
   "cell_type": "code",
   "execution_count": 61,
   "metadata": {},
   "outputs": [
    {
     "data": {
      "text/plain": [
       "0.23401447095129946"
      ]
     },
     "execution_count": 61,
     "metadata": {},
     "output_type": "execute_result"
    }
   ],
   "source": [
    "# your code here\n",
    "mean=35 \n",
    "s = 8\n",
    "\n",
    "deliv = st.norm.cdf(35, mean, s) - st.norm.cdf(30, mean, s)\n",
    "deliv"
   ]
  },
  {
   "cell_type": "markdown",
   "metadata": {},
   "source": [
    "#### Step 2: What is the probability that in total, it takes more than 115 hours to deliver all 200 packages?"
   ]
  },
  {
   "cell_type": "code",
   "execution_count": 71,
   "metadata": {},
   "outputs": [
    {
     "data": {
      "text/plain": [
       "0.2228808215729874"
      ]
     },
     "execution_count": 71,
     "metadata": {},
     "output_type": "execute_result"
    }
   ],
   "source": [
    "# your code here\n",
    "deliv2 = 1 - st.norm.cdf(6900/200, mean, s) #6900 = 115 * 60\n",
    "deliv2"
   ]
  },
  {
   "cell_type": "markdown",
   "metadata": {},
   "source": [
    "# Challenge 5 - Normal Variables\n",
    "The value (in thousands) of the monthly sales of a publishing company follows a normal distribution with a mean equal to 200 and a standard deviation equal to 40.\n",
    "\n",
    "<div align=\"center\">$X → N(200,40)$</div>\n",
    "\n",
    "**Hint**: `stats.norm.cdf` can help you find the answers.\n",
    "\n",
    "#### Step 1: Find the probability that the monthly sales are more than 300."
   ]
  },
  {
   "cell_type": "code",
   "execution_count": 63,
   "metadata": {},
   "outputs": [
    {
     "data": {
      "text/plain": [
       "0.006209665325776159"
      ]
     },
     "execution_count": 63,
     "metadata": {},
     "output_type": "execute_result"
    }
   ],
   "source": [
    "# your code here\n",
    "mean=200\n",
    "s=40\n",
    "\n",
    "sales = 1 - st.norm.cdf(300, mean, s) \n",
    "sales"
   ]
  },
  {
   "cell_type": "markdown",
   "metadata": {},
   "source": [
    "#### Step 2: Find the probability that the monthly sales fall between 160 and 240."
   ]
  },
  {
   "cell_type": "code",
   "execution_count": 64,
   "metadata": {},
   "outputs": [
    {
     "data": {
      "text/plain": [
       "0.6826894921370859"
      ]
     },
     "execution_count": 64,
     "metadata": {},
     "output_type": "execute_result"
    }
   ],
   "source": [
    "# your code here\n",
    "sales2 = st.norm.cdf(240, mean, s) - st.norm.cdf(160, mean, s)\n",
    "sales2"
   ]
  },
  {
   "cell_type": "markdown",
   "metadata": {},
   "source": [
    "#### Step 3: Find the probability that the monthly sales do not exceed 150."
   ]
  },
  {
   "cell_type": "code",
   "execution_count": 65,
   "metadata": {},
   "outputs": [
    {
     "data": {
      "text/plain": [
       "0.10564977366685535"
      ]
     },
     "execution_count": 65,
     "metadata": {},
     "output_type": "execute_result"
    }
   ],
   "source": [
    "# your code here\n",
    "sales3 = st.norm.cdf(150, mean, s)\n",
    "sales3"
   ]
  },
  {
   "cell_type": "markdown",
   "metadata": {},
   "source": [
    "#### Step 4: Find the probability that the monthly sales exceed 3000."
   ]
  },
  {
   "cell_type": "code",
   "execution_count": 66,
   "metadata": {},
   "outputs": [
    {
     "data": {
      "text/plain": [
       "0.0"
      ]
     },
     "execution_count": 66,
     "metadata": {},
     "output_type": "execute_result"
    }
   ],
   "source": [
    "# your code here\n",
    "sales4 = 1 - st.norm.cdf(3000, mean, s)\n",
    "sales4"
   ]
  },
  {
   "cell_type": "markdown",
   "metadata": {},
   "source": [
    "# Challenge 6 - Poisson distribution\n",
    "The mean number of violent robberies per month that are registered in a particular barrio is 4.\n",
    "\n",
    "**Hint**: `stats.poisson.cdf` can help you find the answers.\n",
    "\n",
    "#### Step 1: Find the probability that in a particular month there is no violent robbery."
   ]
  },
  {
   "cell_type": "code",
   "execution_count": 67,
   "metadata": {},
   "outputs": [
    {
     "data": {
      "text/plain": [
       "0.018315638888734182"
      ]
     },
     "execution_count": 67,
     "metadata": {},
     "output_type": "execute_result"
    }
   ],
   "source": [
    "# your code here\n",
    "mean = 4\n",
    "norob = st.poisson.cdf(0, mean)\n",
    "norob"
   ]
  },
  {
   "cell_type": "markdown",
   "metadata": {},
   "source": [
    "#### Step 2: Find the probability that there are at least 1 robbery in a given month."
   ]
  },
  {
   "cell_type": "code",
   "execution_count": 68,
   "metadata": {},
   "outputs": [
    {
     "data": {
      "text/plain": [
       "0.9084218055563291"
      ]
     },
     "execution_count": 68,
     "metadata": {},
     "output_type": "execute_result"
    }
   ],
   "source": [
    "# your code here\n",
    "rob1 = 1 - st.poisson.cdf(1, mean)\n",
    "rob1"
   ]
  },
  {
   "cell_type": "markdown",
   "metadata": {},
   "source": [
    "#### Step 3: Find the probability that there are between 2 and 6 (inclusive) robberies in a given month."
   ]
  },
  {
   "cell_type": "code",
   "execution_count": 69,
   "metadata": {},
   "outputs": [
    {
     "data": {
      "text/plain": [
       "0.6512227160438819"
      ]
     },
     "execution_count": 69,
     "metadata": {},
     "output_type": "execute_result"
    }
   ],
   "source": [
    "# your code here\n",
    "rob26 = st.poisson.cdf(6, mean) - st.poisson.cdf(2, mean)\n",
    "rob26"
   ]
  },
  {
   "cell_type": "markdown",
   "metadata": {},
   "source": [
    "#### Step 4: Find the probability that there are more than 2 robberies in 15 days."
   ]
  },
  {
   "cell_type": "code",
   "execution_count": 70,
   "metadata": {},
   "outputs": [
    {
     "data": {
      "text/plain": [
       "0.3233235838169366"
      ]
     },
     "execution_count": 70,
     "metadata": {},
     "output_type": "execute_result"
    }
   ],
   "source": [
    "# your code here\n",
    "#for 15 days, just divide mean by 2\n",
    "rob2 = 1 - st.poisson.cdf(2, mean/2)\n",
    "rob2"
   ]
  },
  {
   "cell_type": "code",
   "execution_count": null,
   "metadata": {},
   "outputs": [],
   "source": []
  }
 ],
 "metadata": {
  "anaconda-cloud": {},
  "kernelspec": {
   "display_name": "Python 3 (ipykernel)",
   "language": "python",
   "name": "python3"
  },
  "language_info": {
   "codemirror_mode": {
    "name": "ipython",
    "version": 3
   },
   "file_extension": ".py",
   "mimetype": "text/x-python",
   "name": "python",
   "nbconvert_exporter": "python",
   "pygments_lexer": "ipython3",
   "version": "3.9.7"
  }
 },
 "nbformat": 4,
 "nbformat_minor": 1
}
